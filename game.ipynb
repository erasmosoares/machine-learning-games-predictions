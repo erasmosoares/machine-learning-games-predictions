{
 "cells": [
  {
   "cell_type": "code",
   "execution_count": 1,
   "metadata": {},
   "outputs": [
    {
     "data": {
      "text/plain": [
       "array(['Adventure', 'Esports'], dtype=object)"
      ]
     },
     "execution_count": 1,
     "metadata": {},
     "output_type": "execute_result"
    }
   ],
   "source": [
    "# Creating a model and making predictions\n",
    "\n",
    "import pandas as pd\n",
    "from sklearn.tree import DecisionTreeClassifier\n",
    "\n",
    "# Import a DataSet\n",
    "game_data = pd.read_csv('games.csv')\n",
    "X = game_data.drop(columns=['genre']) # input\n",
    "y = game_data['genre'] # output\n",
    "\n",
    "# Create a Model\n",
    "model = DecisionTreeClassifier() # Algorithm\n",
    "\n",
    "# Trainning\n",
    "model.fit(X.values,y)\n",
    "\n",
    "# Make predictions\n",
    "predictions = model.predict([ [26,1],[22,0] ]) #inputset age 21,Male / 22,Female / trainning 80% / testing 20%\n",
    "predictions"
   ]
  },
  {
   "cell_type": "code",
   "execution_count": 12,
   "metadata": {},
   "outputs": [
    {
     "data": {
      "text/plain": [
       "0.5555555555555556"
      ]
     },
     "execution_count": 12,
     "metadata": {},
     "output_type": "execute_result"
    }
   ],
   "source": [
    "# Calculating Accuracy\n",
    "\n",
    "import pandas as pd\n",
    "from sklearn.tree import DecisionTreeClassifier\n",
    "from sklearn.model_selection import train_test_split\n",
    "from sklearn.metrics import accuracy_score \n",
    "\n",
    "game_data = pd.read_csv('games.csv')\n",
    "X = game_data.drop(columns=['genre']) # input\n",
    "y = game_data['genre'] # output\n",
    "\n",
    "# Test Split for Accuracy\n",
    "X_train, X_test, y_train, y_test = train_test_split(X,y,test_size=0.2) #20% for testing\n",
    "\n",
    "model = DecisionTreeClassifier() # Algorithm\n",
    "model.fit(X_train,y_train)\n",
    "\n",
    "predictions = model.predict(X_test) #inputset age 21,Male / 22,Female / trainning 80% / testing 20%\n",
    "\n",
    "score = accuracy_score(y_test, predictions)\n",
    "score"
   ]
  },
  {
   "cell_type": "code",
   "execution_count": 13,
   "metadata": {},
   "outputs": [
    {
     "data": {
      "text/plain": [
       "['games-recommender.joblib']"
      ]
     },
     "execution_count": 13,
     "metadata": {},
     "output_type": "execute_result"
    }
   ],
   "source": [
    "# Persisting Models\n",
    "\n",
    "import pandas as pd\n",
    "import joblib as jb\n",
    "from sklearn.tree import DecisionTreeClassifier\n",
    "\n",
    "\n",
    "# Import a DataSet\n",
    "music_data = pd.read_csv('games.csv')\n",
    "X = music_data.drop(columns=['genre']) # input\n",
    "y = music_data['genre'] # output\n",
    "\n",
    "# Create a Model\n",
    "model = DecisionTreeClassifier() # Algorithm\n",
    "\n",
    "# Trainning\n",
    "model.fit(X.values,y)\n",
    "\n",
    "# Store the trainned model into a file\n",
    "jb.dump(model,'games-recommender.joblib')"
   ]
  },
  {
   "cell_type": "code",
   "execution_count": 14,
   "metadata": {},
   "outputs": [
    {
     "data": {
      "text/plain": [
       "array(['Action'], dtype=object)"
      ]
     },
     "execution_count": 14,
     "metadata": {},
     "output_type": "execute_result"
    }
   ],
   "source": [
    "# Loading Models\n",
    "\n",
    "import pandas as pd\n",
    "import joblib as jb\n",
    "from sklearn.tree import DecisionTreeClassifier\n",
    "\n",
    "# Load the trainned model from a file\n",
    "model = jb.load('games-recommender.joblib')\n",
    "predictions = model.predict([[21,1]])\n",
    "predictions"
   ]
  }
 ],
 "metadata": {
  "kernelspec": {
   "display_name": "docuscan",
   "language": "python",
   "name": "python3"
  },
  "language_info": {
   "codemirror_mode": {
    "name": "ipython",
    "version": 3
   },
   "file_extension": ".py",
   "mimetype": "text/x-python",
   "name": "python",
   "nbconvert_exporter": "python",
   "pygments_lexer": "ipython3",
   "version": "3.11.4"
  }
 },
 "nbformat": 4,
 "nbformat_minor": 2
}
